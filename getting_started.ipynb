{
 "cells": [
  {
   "cell_type": "markdown",
   "metadata": {},
   "source": [
    "# Starting Python for Data Science in 7 Steps"
   ]
  },
  {
   "cell_type": "markdown",
   "metadata": {},
   "source": [
    "## Install Python\n",
    "1. Download the latest version of Python from [https://www.python.org/downloads/](https://www.python.org/downloads/)\n",
    "![download latest](static/img/installing_py1.png)\n",
    "\n",
    "2. Install.\n",
    "3. Upgrade pip: \n",
    "`pip3 install --upgrade pip`\n",
    "\n",
    "## Setup programming environment with Pipenv\n",
    "Pipenv installs and Python packages and organizes them for each of our projects.\n",
    "\n",
    "4. Install Pipenv:\n",
    "`pip install pipenv`\n",
    "5. Install JupyterLabs:\n",
    "`pipenv install jupyterlab`\n",
    "6. Open JupyterLabs:\n",
    "`pipenv run jupyter lab`\n",
    "\n",
    "## Install packages for Data Science\n",
    "7. pipenv install matplotlib numpy pandas scikit-learn\n",
    "\n",
    "### matplotlib\n",
    "A library for data visualization.\n",
    "\n",
    "[Getting started](https://matplotlib.org/tutorials/introductory/usage.html#sphx-glr-tutorials-introductory-usage-py)\n",
    "\n",
    "[Cheat sheet](https://s3.amazonaws.com/assets.datacamp.com/blog_assets/Python_Matplotlib_Cheat_Sheet.pdf)\n",
    "\n",
    "![Example visualizations](https://miro.medium.com/max/4652/1*swPzVFGpYdijWAmbrydCDw.png)\n",
    "\n",
    "### numpy\n",
    "Fundamental package for scientific computing.\n",
    "\n",
    "[Getting started](https://docs.scipy.org/doc/numpy/user/quickstart.html)\n",
    "\n",
    "[Cheat sheet](https://s3.amazonaws.com/assets.datacamp.com/blog_assets/Numpy_Python_Cheat_Sheet.pdf)\n",
    "\n",
    "![numpy image](https://upload.wikimedia.org/wikipedia/commons/thumb/1/1a/NumPy_logo.svg/2560px-NumPy_logo.svg.png)\n",
    "\n",
    "### pandas\n",
    "Package for data analysis and manipulation.\n",
    "\n",
    "[Getting started](https://pandas.pydata.org/getting_started.html)\n",
    "\n",
    "[Cheat sheet](https://pandas.pydata.org/Pandas_Cheat_Sheet.pdf)\n",
    "\n",
    "![Pandas image](https://miro.medium.com/max/819/1*Dss7A8Z-M4x8LD9ccgw7pQ.png)\n",
    "\n",
    "### scikit-learn\n",
    "Data analysis and machine learning\n",
    "\n",
    "[Getting started](https://scikit-learn.org/stable/getting_started.html)\n",
    "\n",
    "[Cheat sheet](https://s3.amazonaws.com/assets.datacamp.com/blog_assets/Scikit_Learn_Cheat_Sheet_Python.pdf)\n",
    "![sklearn map](https://upload.wikimedia.org/wikipedia/commons/thumb/0/05/Scikit_learn_logo_small.svg/1200px-Scikit_learn_logo_small.svg.png)"
   ]
  },
  {
   "cell_type": "markdown",
   "metadata": {},
   "source": [
    "___\n",
    "### [Next: Visualizations](visualizations.ipynb)"
   ]
  }
 ],
 "metadata": {
  "kernelspec": {
   "display_name": "Python 3",
   "language": "python",
   "name": "python3"
  },
  "language_info": {
   "codemirror_mode": {
    "name": "ipython",
    "version": 3
   },
   "file_extension": ".py",
   "mimetype": "text/x-python",
   "name": "python",
   "nbconvert_exporter": "python",
   "pygments_lexer": "ipython3",
   "version": "3.8.1"
  }
 },
 "nbformat": 4,
 "nbformat_minor": 4
}
