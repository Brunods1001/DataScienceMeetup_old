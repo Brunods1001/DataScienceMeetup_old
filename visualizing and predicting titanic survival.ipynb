{
 "cells": [
  {
   "cell_type": "code",
   "execution_count": 4,
   "metadata": {
    "Collapsed": "false"
   },
   "outputs": [],
   "source": [
    "import dovpanda  # helper module to give you tips when using Pandas\n",
    "import matplotlib.pyplot as plt\n",
    "import numpy as np\n",
    "import pandas as pd\n",
    "import seaborn as sns\n",
    "\n",
    "from scipy.stats import ttest_ind"
   ]
  },
  {
   "cell_type": "markdown",
   "metadata": {
    "Collapsed": "false"
   },
   "source": [
    "## Load files"
   ]
  },
  {
   "cell_type": "code",
   "execution_count": 5,
   "metadata": {
    "Collapsed": "false"
   },
   "outputs": [
    {
     "data": {
      "text/html": [
       "\n",
       "<div class=\"alert alert-info\" role=\"alert\">\n",
       "  <img src=\"data:image/png;base64,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\" alt=\"logo\" style=\"float:left; margin-right:10px\">\n",
       "  Dataframe has 891 rows. Column <code>Sex</code> has only 2 values which suggests it's a boolean feature.<br>After df is created, Consider converting it to boolean by using <code>df['Sex'] = (df['Sex'] == 'male')</code>\n",
       "  <button type=\"button\" class=\"close\" data-dismiss=\"alert\" aria-label=\"Close\">\n",
       "    <span aria-hidden=\"true\">&times;</span>\n",
       "  </button>\n",
       "  <div style=\"font-size:0.7em;\">\n",
       "    Line 1: <code>df_train = pd.read_csv('data/titanic/train.csv')</code>\n",
       "  </div>\n",
       "\n",
       "</div>\n"
      ],
      "text/plain": [
       "* =====(Line 1) Dataframe has 891 rows. Column Sex has only 2 values which suggests it's a boolean feature.\n",
       "After df is created, Consider converting it to boolean by using df['Sex'] = (df['Sex'] == 'male') ====="
      ]
     },
     "metadata": {},
     "output_type": "display_data"
    },
    {
     "data": {
      "text/html": [
       "\n",
       "<div class=\"alert alert-info\" role=\"alert\">\n",
       "  <img src=\"data:image/png;base64,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\" alt=\"logo\" style=\"float:left; margin-right:10px\">\n",
       "  Dataframe has 891 rows. Column <code>Cabin</code> has only 147 values which suggests it's a categorical feature.<br>After df is created, Consider converting it to categorical by using <code>df['Cabin'] = df['Cabin'].astype('category')</code>\n",
       "  <button type=\"button\" class=\"close\" data-dismiss=\"alert\" aria-label=\"Close\">\n",
       "    <span aria-hidden=\"true\">&times;</span>\n",
       "  </button>\n",
       "  <div style=\"font-size:0.7em;\">\n",
       "    Line 1: <code>df_train = pd.read_csv('data/titanic/train.csv')</code>\n",
       "  </div>\n",
       "\n",
       "</div>\n"
      ],
      "text/plain": [
       "* =====(Line 1) Dataframe has 891 rows. Column Cabin has only 147 values which suggests it's a categorical feature.\n",
       "After df is created, Consider converting it to categorical by using df['Cabin'] = df['Cabin'].astype('category') ====="
      ]
     },
     "metadata": {},
     "output_type": "display_data"
    },
    {
     "data": {
      "text/html": [
       "\n",
       "<div class=\"alert alert-info\" role=\"alert\">\n",
       "  <img src=\"data:image/png;base64,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\" alt=\"logo\" style=\"float:left; margin-right:10px\">\n",
       "  Dataframe has 891 rows. Column <code>Embarked</code> has only 3 values which suggests it's a categorical feature.<br>After df is created, Consider converting it to categorical by using <code>df['Embarked'] = df['Embarked'].astype('category')</code>\n",
       "  <button type=\"button\" class=\"close\" data-dismiss=\"alert\" aria-label=\"Close\">\n",
       "    <span aria-hidden=\"true\">&times;</span>\n",
       "  </button>\n",
       "  <div style=\"font-size:0.7em;\">\n",
       "    Line 1: <code>df_train = pd.read_csv('data/titanic/train.csv')</code>\n",
       "  </div>\n",
       "\n",
       "</div>\n"
      ],
      "text/plain": [
       "* =====(Line 1) Dataframe has 891 rows. Column Embarked has only 3 values which suggests it's a categorical feature.\n",
       "After df is created, Consider converting it to categorical by using df['Embarked'] = df['Embarked'].astype('category') ====="
      ]
     },
     "metadata": {},
     "output_type": "display_data"
    }
   ],
   "source": [
    "df_train = pd.read_csv('data/titanic/train.csv')"
   ]
  },
  {
   "cell_type": "code",
   "execution_count": 6,
   "metadata": {
    "Collapsed": "false"
   },
   "outputs": [],
   "source": [
    "df_train['Sex'] = (df_train['Sex'] == 'male')\n",
    "df_train.rename(columns={'Sex': 'is_male'}, inplace=True)\n",
    "df_train['Cabin'] = df_train['Cabin'].astype('category')\n",
    "df_train['Embarked'] = df_train['Embarked'].astype('category')"
   ]
  },
  {
   "cell_type": "code",
   "execution_count": 7,
   "metadata": {
    "Collapsed": "false"
   },
   "outputs": [
    {
     "data": {
      "text/html": [
       "<div>\n",
       "<style scoped>\n",
       "    .dataframe tbody tr th:only-of-type {\n",
       "        vertical-align: middle;\n",
       "    }\n",
       "\n",
       "    .dataframe tbody tr th {\n",
       "        vertical-align: top;\n",
       "    }\n",
       "\n",
       "    .dataframe thead th {\n",
       "        text-align: right;\n",
       "    }\n",
       "</style>\n",
       "<table border=\"1\" class=\"dataframe\">\n",
       "  <thead>\n",
       "    <tr style=\"text-align: right;\">\n",
       "      <th></th>\n",
       "      <th>PassengerId</th>\n",
       "      <th>Survived</th>\n",
       "      <th>Pclass</th>\n",
       "      <th>Name</th>\n",
       "      <th>is_male</th>\n",
       "      <th>Age</th>\n",
       "      <th>SibSp</th>\n",
       "      <th>Parch</th>\n",
       "      <th>Ticket</th>\n",
       "      <th>Fare</th>\n",
       "      <th>Cabin</th>\n",
       "      <th>Embarked</th>\n",
       "    </tr>\n",
       "  </thead>\n",
       "  <tbody>\n",
       "    <tr>\n",
       "      <th>0</th>\n",
       "      <td>1</td>\n",
       "      <td>0</td>\n",
       "      <td>3</td>\n",
       "      <td>Braund, Mr. Owen Harris</td>\n",
       "      <td>True</td>\n",
       "      <td>22.0</td>\n",
       "      <td>1</td>\n",
       "      <td>0</td>\n",
       "      <td>A/5 21171</td>\n",
       "      <td>7.2500</td>\n",
       "      <td>NaN</td>\n",
       "      <td>S</td>\n",
       "    </tr>\n",
       "    <tr>\n",
       "      <th>1</th>\n",
       "      <td>2</td>\n",
       "      <td>1</td>\n",
       "      <td>1</td>\n",
       "      <td>Cumings, Mrs. John Bradley (Florence Briggs Th...</td>\n",
       "      <td>False</td>\n",
       "      <td>38.0</td>\n",
       "      <td>1</td>\n",
       "      <td>0</td>\n",
       "      <td>PC 17599</td>\n",
       "      <td>71.2833</td>\n",
       "      <td>C85</td>\n",
       "      <td>C</td>\n",
       "    </tr>\n",
       "    <tr>\n",
       "      <th>2</th>\n",
       "      <td>3</td>\n",
       "      <td>1</td>\n",
       "      <td>3</td>\n",
       "      <td>Heikkinen, Miss. Laina</td>\n",
       "      <td>False</td>\n",
       "      <td>26.0</td>\n",
       "      <td>0</td>\n",
       "      <td>0</td>\n",
       "      <td>STON/O2. 3101282</td>\n",
       "      <td>7.9250</td>\n",
       "      <td>NaN</td>\n",
       "      <td>S</td>\n",
       "    </tr>\n",
       "    <tr>\n",
       "      <th>3</th>\n",
       "      <td>4</td>\n",
       "      <td>1</td>\n",
       "      <td>1</td>\n",
       "      <td>Futrelle, Mrs. Jacques Heath (Lily May Peel)</td>\n",
       "      <td>False</td>\n",
       "      <td>35.0</td>\n",
       "      <td>1</td>\n",
       "      <td>0</td>\n",
       "      <td>113803</td>\n",
       "      <td>53.1000</td>\n",
       "      <td>C123</td>\n",
       "      <td>S</td>\n",
       "    </tr>\n",
       "    <tr>\n",
       "      <th>4</th>\n",
       "      <td>5</td>\n",
       "      <td>0</td>\n",
       "      <td>3</td>\n",
       "      <td>Allen, Mr. William Henry</td>\n",
       "      <td>True</td>\n",
       "      <td>35.0</td>\n",
       "      <td>0</td>\n",
       "      <td>0</td>\n",
       "      <td>373450</td>\n",
       "      <td>8.0500</td>\n",
       "      <td>NaN</td>\n",
       "      <td>S</td>\n",
       "    </tr>\n",
       "    <tr>\n",
       "      <th>...</th>\n",
       "      <td>...</td>\n",
       "      <td>...</td>\n",
       "      <td>...</td>\n",
       "      <td>...</td>\n",
       "      <td>...</td>\n",
       "      <td>...</td>\n",
       "      <td>...</td>\n",
       "      <td>...</td>\n",
       "      <td>...</td>\n",
       "      <td>...</td>\n",
       "      <td>...</td>\n",
       "      <td>...</td>\n",
       "    </tr>\n",
       "    <tr>\n",
       "      <th>886</th>\n",
       "      <td>887</td>\n",
       "      <td>0</td>\n",
       "      <td>2</td>\n",
       "      <td>Montvila, Rev. Juozas</td>\n",
       "      <td>True</td>\n",
       "      <td>27.0</td>\n",
       "      <td>0</td>\n",
       "      <td>0</td>\n",
       "      <td>211536</td>\n",
       "      <td>13.0000</td>\n",
       "      <td>NaN</td>\n",
       "      <td>S</td>\n",
       "    </tr>\n",
       "    <tr>\n",
       "      <th>887</th>\n",
       "      <td>888</td>\n",
       "      <td>1</td>\n",
       "      <td>1</td>\n",
       "      <td>Graham, Miss. Margaret Edith</td>\n",
       "      <td>False</td>\n",
       "      <td>19.0</td>\n",
       "      <td>0</td>\n",
       "      <td>0</td>\n",
       "      <td>112053</td>\n",
       "      <td>30.0000</td>\n",
       "      <td>B42</td>\n",
       "      <td>S</td>\n",
       "    </tr>\n",
       "    <tr>\n",
       "      <th>888</th>\n",
       "      <td>889</td>\n",
       "      <td>0</td>\n",
       "      <td>3</td>\n",
       "      <td>Johnston, Miss. Catherine Helen \"Carrie\"</td>\n",
       "      <td>False</td>\n",
       "      <td>NaN</td>\n",
       "      <td>1</td>\n",
       "      <td>2</td>\n",
       "      <td>W./C. 6607</td>\n",
       "      <td>23.4500</td>\n",
       "      <td>NaN</td>\n",
       "      <td>S</td>\n",
       "    </tr>\n",
       "    <tr>\n",
       "      <th>889</th>\n",
       "      <td>890</td>\n",
       "      <td>1</td>\n",
       "      <td>1</td>\n",
       "      <td>Behr, Mr. Karl Howell</td>\n",
       "      <td>True</td>\n",
       "      <td>26.0</td>\n",
       "      <td>0</td>\n",
       "      <td>0</td>\n",
       "      <td>111369</td>\n",
       "      <td>30.0000</td>\n",
       "      <td>C148</td>\n",
       "      <td>C</td>\n",
       "    </tr>\n",
       "    <tr>\n",
       "      <th>890</th>\n",
       "      <td>891</td>\n",
       "      <td>0</td>\n",
       "      <td>3</td>\n",
       "      <td>Dooley, Mr. Patrick</td>\n",
       "      <td>True</td>\n",
       "      <td>32.0</td>\n",
       "      <td>0</td>\n",
       "      <td>0</td>\n",
       "      <td>370376</td>\n",
       "      <td>7.7500</td>\n",
       "      <td>NaN</td>\n",
       "      <td>Q</td>\n",
       "    </tr>\n",
       "  </tbody>\n",
       "</table>\n",
       "<p>891 rows × 12 columns</p>\n",
       "</div>"
      ],
      "text/plain": [
       "     PassengerId  Survived  Pclass  \\\n",
       "0              1         0       3   \n",
       "1              2         1       1   \n",
       "2              3         1       3   \n",
       "3              4         1       1   \n",
       "4              5         0       3   \n",
       "..           ...       ...     ...   \n",
       "886          887         0       2   \n",
       "887          888         1       1   \n",
       "888          889         0       3   \n",
       "889          890         1       1   \n",
       "890          891         0       3   \n",
       "\n",
       "                                                  Name  is_male   Age  SibSp  \\\n",
       "0                              Braund, Mr. Owen Harris     True  22.0      1   \n",
       "1    Cumings, Mrs. John Bradley (Florence Briggs Th...    False  38.0      1   \n",
       "2                               Heikkinen, Miss. Laina    False  26.0      0   \n",
       "3         Futrelle, Mrs. Jacques Heath (Lily May Peel)    False  35.0      1   \n",
       "4                             Allen, Mr. William Henry     True  35.0      0   \n",
       "..                                                 ...      ...   ...    ...   \n",
       "886                              Montvila, Rev. Juozas     True  27.0      0   \n",
       "887                       Graham, Miss. Margaret Edith    False  19.0      0   \n",
       "888           Johnston, Miss. Catherine Helen \"Carrie\"    False   NaN      1   \n",
       "889                              Behr, Mr. Karl Howell     True  26.0      0   \n",
       "890                                Dooley, Mr. Patrick     True  32.0      0   \n",
       "\n",
       "     Parch            Ticket     Fare Cabin Embarked  \n",
       "0        0         A/5 21171   7.2500   NaN        S  \n",
       "1        0          PC 17599  71.2833   C85        C  \n",
       "2        0  STON/O2. 3101282   7.9250   NaN        S  \n",
       "3        0            113803  53.1000  C123        S  \n",
       "4        0            373450   8.0500   NaN        S  \n",
       "..     ...               ...      ...   ...      ...  \n",
       "886      0            211536  13.0000   NaN        S  \n",
       "887      0            112053  30.0000   B42        S  \n",
       "888      2        W./C. 6607  23.4500   NaN        S  \n",
       "889      0            111369  30.0000  C148        C  \n",
       "890      0            370376   7.7500   NaN        Q  \n",
       "\n",
       "[891 rows x 12 columns]"
      ]
     },
     "execution_count": 7,
     "metadata": {},
     "output_type": "execute_result"
    }
   ],
   "source": [
    "df_train"
   ]
  },
  {
   "cell_type": "code",
   "execution_count": 15,
   "metadata": {
    "Collapsed": "false"
   },
   "outputs": [
    {
     "data": {
      "text/html": [
       "\n",
       "<div class=\"alert alert-info\" role=\"alert\">\n",
       "  <img src=\"data:image/png;base64,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\" alt=\"logo\" style=\"float:left; margin-right:10px\">\n",
       "  You have called <code>dropna</code> with <code>inplace=False</code>.<br>This means the object itself will not change and the statement will have no effect. Assign the operation to a new variable or rewrite it as<br><code>.dropna(...,inplace=True)</code>\n",
       "  <button type=\"button\" class=\"close\" data-dismiss=\"alert\" aria-label=\"Close\">\n",
       "    <span aria-hidden=\"true\">&times;</span>\n",
       "  </button>\n",
       "  <div style=\"font-size:0.7em;\">\n",
       "    Line 3: <code>data=df_train.dropna());</code>\n",
       "  </div>\n",
       "\n",
       "</div>\n"
      ],
      "text/plain": [
       "* =====(Line 3) You have called dropna with inplace=False.\n",
       "This means the object itself will not change and the statement will have no effect. Assign the operation to a new variable or rewrite it as\n",
       ".dropna(...,inplace=True) ====="
      ]
     },
     "metadata": {},
     "output_type": "display_data"
    },
    {
     "data": {
      "text/html": [
       "\n",
       "<div class=\"alert alert-info\" role=\"alert\">\n",
       "  <img src=\"data:image/png;base64,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\" alt=\"logo\" style=\"float:left; margin-right:10px\">\n",
       "  You have called <code>dropna</code> with <code>inplace=False</code>.<br>This means the object itself will not change and the statement will have no effect. Assign the operation to a new variable or rewrite it as<br><code>.dropna(...,inplace=True)</code>\n",
       "  <button type=\"button\" class=\"close\" data-dismiss=\"alert\" aria-label=\"Close\">\n",
       "    <span aria-hidden=\"true\">&times;</span>\n",
       "  </button>\n",
       "  <div style=\"font-size:0.7em;\">\n",
       "    Line 941: <code>data = self.plot_data[self.semantics].dropna()</code>\n",
       "  </div>\n",
       "\n",
       "</div>\n"
      ],
      "text/plain": [
       "* =====(Line 941) You have called dropna with inplace=False.\n",
       "This means the object itself will not change and the statement will have no effect. Assign the operation to a new variable or rewrite it as\n",
       ".dropna(...,inplace=True) ====="
      ]
     },
     "metadata": {},
     "output_type": "display_data"
    },
    {
     "data": {
      "image/png": "[encoded data removed]",
      "text/plain": [
       "<Figure size 806.625x360 with 2 Axes>"
      ]
     },
     "metadata": {
      "needs_background": "light"
     },
     "output_type": "display_data"
    }
   ],
   "source": [
    "sns.relplot(x=\"Age\", y=\"Fare\", col=\"is_male\",\n",
    "            hue=\"Survived\", style=\"Embarked\", size=\"Parch\",\n",
    "            data=df_train.dropna());"
   ]
  },
  {
   "cell_type": "markdown",
   "metadata": {
    "Collapsed": "false"
   },
   "source": [
    "## Clean"
   ]
  },
  {
   "cell_type": "markdown",
   "metadata": {
    "Collapsed": "false"
   },
   "source": [
    "### Handle missing values"
   ]
  },
  {
   "cell_type": "code",
   "execution_count": 7,
   "metadata": {
    "Collapsed": "false"
   },
   "outputs": [
    {
     "name": "stdout",
     "output_type": "stream",
     "text": [
      "<class 'pandas.core.frame.DataFrame'>\n",
      "RangeIndex: 891 entries, 0 to 890\n",
      "Data columns (total 12 columns):\n",
      " #   Column       Non-Null Count  Dtype   \n",
      "---  ------       --------------  -----   \n",
      " 0   PassengerId  891 non-null    int64   \n",
      " 1   Survived     891 non-null    int64   \n",
      " 2   Pclass       891 non-null    int64   \n",
      " 3   Name         891 non-null    object  \n",
      " 4   is_male      891 non-null    bool    \n",
      " 5   Age          714 non-null    float64 \n",
      " 6   SibSp        891 non-null    int64   \n",
      " 7   Parch        891 non-null    int64   \n",
      " 8   Ticket       891 non-null    object  \n",
      " 9   Fare         891 non-null    float64 \n",
      " 10  Cabin        204 non-null    category\n",
      " 11  Embarked     889 non-null    category\n",
      "dtypes: bool(1), category(2), float64(2), int64(5), object(2)\n",
      "memory usage: 72.5+ KB\n"
     ]
    }
   ],
   "source": [
    "df_train.info()"
   ]
  },
  {
   "cell_type": "code",
   "execution_count": 10,
   "metadata": {
    "Collapsed": "false"
   },
   "outputs": [
    {
     "data": {
      "text/html": [
       "<div>\n",
       "<style scoped>\n",
       "    .dataframe tbody tr th:only-of-type {\n",
       "        vertical-align: middle;\n",
       "    }\n",
       "\n",
       "    .dataframe tbody tr th {\n",
       "        vertical-align: top;\n",
       "    }\n",
       "\n",
       "    .dataframe thead th {\n",
       "        text-align: right;\n",
       "    }\n",
       "</style>\n",
       "<table border=\"1\" class=\"dataframe\">\n",
       "  <thead>\n",
       "    <tr style=\"text-align: right;\">\n",
       "      <th></th>\n",
       "      <th>PassengerId</th>\n",
       "      <th>Survived</th>\n",
       "      <th>Pclass</th>\n",
       "      <th>Name</th>\n",
       "      <th>is_male</th>\n",
       "      <th>Age</th>\n",
       "      <th>SibSp</th>\n",
       "      <th>Parch</th>\n",
       "      <th>Ticket</th>\n",
       "      <th>Fare</th>\n",
       "      <th>Cabin</th>\n",
       "      <th>Embarked</th>\n",
       "    </tr>\n",
       "  </thead>\n",
       "  <tbody>\n",
       "    <tr>\n",
       "      <th>5</th>\n",
       "      <td>6</td>\n",
       "      <td>0</td>\n",
       "      <td>3</td>\n",
       "      <td>Moran, Mr. James</td>\n",
       "      <td>True</td>\n",
       "      <td>NaN</td>\n",
       "      <td>0</td>\n",
       "      <td>0</td>\n",
       "      <td>330877</td>\n",
       "      <td>8.4583</td>\n",
       "      <td>NaN</td>\n",
       "      <td>Q</td>\n",
       "    </tr>\n",
       "    <tr>\n",
       "      <th>17</th>\n",
       "      <td>18</td>\n",
       "      <td>1</td>\n",
       "      <td>2</td>\n",
       "      <td>Williams, Mr. Charles Eugene</td>\n",
       "      <td>True</td>\n",
       "      <td>NaN</td>\n",
       "      <td>0</td>\n",
       "      <td>0</td>\n",
       "      <td>244373</td>\n",
       "      <td>13.0000</td>\n",
       "      <td>NaN</td>\n",
       "      <td>S</td>\n",
       "    </tr>\n",
       "    <tr>\n",
       "      <th>19</th>\n",
       "      <td>20</td>\n",
       "      <td>1</td>\n",
       "      <td>3</td>\n",
       "      <td>Masselmani, Mrs. Fatima</td>\n",
       "      <td>False</td>\n",
       "      <td>NaN</td>\n",
       "      <td>0</td>\n",
       "      <td>0</td>\n",
       "      <td>2649</td>\n",
       "      <td>7.2250</td>\n",
       "      <td>NaN</td>\n",
       "      <td>C</td>\n",
       "    </tr>\n",
       "    <tr>\n",
       "      <th>26</th>\n",
       "      <td>27</td>\n",
       "      <td>0</td>\n",
       "      <td>3</td>\n",
       "      <td>Emir, Mr. Farred Chehab</td>\n",
       "      <td>True</td>\n",
       "      <td>NaN</td>\n",
       "      <td>0</td>\n",
       "      <td>0</td>\n",
       "      <td>2631</td>\n",
       "      <td>7.2250</td>\n",
       "      <td>NaN</td>\n",
       "      <td>C</td>\n",
       "    </tr>\n",
       "    <tr>\n",
       "      <th>28</th>\n",
       "      <td>29</td>\n",
       "      <td>1</td>\n",
       "      <td>3</td>\n",
       "      <td>O'Dwyer, Miss. Ellen \"Nellie\"</td>\n",
       "      <td>False</td>\n",
       "      <td>NaN</td>\n",
       "      <td>0</td>\n",
       "      <td>0</td>\n",
       "      <td>330959</td>\n",
       "      <td>7.8792</td>\n",
       "      <td>NaN</td>\n",
       "      <td>Q</td>\n",
       "    </tr>\n",
       "    <tr>\n",
       "      <th>...</th>\n",
       "      <td>...</td>\n",
       "      <td>...</td>\n",
       "      <td>...</td>\n",
       "      <td>...</td>\n",
       "      <td>...</td>\n",
       "      <td>...</td>\n",
       "      <td>...</td>\n",
       "      <td>...</td>\n",
       "      <td>...</td>\n",
       "      <td>...</td>\n",
       "      <td>...</td>\n",
       "      <td>...</td>\n",
       "    </tr>\n",
       "    <tr>\n",
       "      <th>859</th>\n",
       "      <td>860</td>\n",
       "      <td>0</td>\n",
       "      <td>3</td>\n",
       "      <td>Razi, Mr. Raihed</td>\n",
       "      <td>True</td>\n",
       "      <td>NaN</td>\n",
       "      <td>0</td>\n",
       "      <td>0</td>\n",
       "      <td>2629</td>\n",
       "      <td>7.2292</td>\n",
       "      <td>NaN</td>\n",
       "      <td>C</td>\n",
       "    </tr>\n",
       "    <tr>\n",
       "      <th>863</th>\n",
       "      <td>864</td>\n",
       "      <td>0</td>\n",
       "      <td>3</td>\n",
       "      <td>Sage, Miss. Dorothy Edith \"Dolly\"</td>\n",
       "      <td>False</td>\n",
       "      <td>NaN</td>\n",
       "      <td>8</td>\n",
       "      <td>2</td>\n",
       "      <td>CA. 2343</td>\n",
       "      <td>69.5500</td>\n",
       "      <td>NaN</td>\n",
       "      <td>S</td>\n",
       "    </tr>\n",
       "    <tr>\n",
       "      <th>868</th>\n",
       "      <td>869</td>\n",
       "      <td>0</td>\n",
       "      <td>3</td>\n",
       "      <td>van Melkebeke, Mr. Philemon</td>\n",
       "      <td>True</td>\n",
       "      <td>NaN</td>\n",
       "      <td>0</td>\n",
       "      <td>0</td>\n",
       "      <td>345777</td>\n",
       "      <td>9.5000</td>\n",
       "      <td>NaN</td>\n",
       "      <td>S</td>\n",
       "    </tr>\n",
       "    <tr>\n",
       "      <th>878</th>\n",
       "      <td>879</td>\n",
       "      <td>0</td>\n",
       "      <td>3</td>\n",
       "      <td>Laleff, Mr. Kristo</td>\n",
       "      <td>True</td>\n",
       "      <td>NaN</td>\n",
       "      <td>0</td>\n",
       "      <td>0</td>\n",
       "      <td>349217</td>\n",
       "      <td>7.8958</td>\n",
       "      <td>NaN</td>\n",
       "      <td>S</td>\n",
       "    </tr>\n",
       "    <tr>\n",
       "      <th>888</th>\n",
       "      <td>889</td>\n",
       "      <td>0</td>\n",
       "      <td>3</td>\n",
       "      <td>Johnston, Miss. Catherine Helen \"Carrie\"</td>\n",
       "      <td>False</td>\n",
       "      <td>NaN</td>\n",
       "      <td>1</td>\n",
       "      <td>2</td>\n",
       "      <td>W./C. 6607</td>\n",
       "      <td>23.4500</td>\n",
       "      <td>NaN</td>\n",
       "      <td>S</td>\n",
       "    </tr>\n",
       "  </tbody>\n",
       "</table>\n",
       "<p>177 rows × 12 columns</p>\n",
       "</div>"
      ],
      "text/plain": [
       "     PassengerId  Survived  Pclass                                      Name  \\\n",
       "5              6         0       3                          Moran, Mr. James   \n",
       "17            18         1       2              Williams, Mr. Charles Eugene   \n",
       "19            20         1       3                   Masselmani, Mrs. Fatima   \n",
       "26            27         0       3                   Emir, Mr. Farred Chehab   \n",
       "28            29         1       3             O'Dwyer, Miss. Ellen \"Nellie\"   \n",
       "..           ...       ...     ...                                       ...   \n",
       "859          860         0       3                          Razi, Mr. Raihed   \n",
       "863          864         0       3         Sage, Miss. Dorothy Edith \"Dolly\"   \n",
       "868          869         0       3               van Melkebeke, Mr. Philemon   \n",
       "878          879         0       3                        Laleff, Mr. Kristo   \n",
       "888          889         0       3  Johnston, Miss. Catherine Helen \"Carrie\"   \n",
       "\n",
       "     is_male  Age  SibSp  Parch      Ticket     Fare Cabin Embarked  \n",
       "5       True  NaN      0      0      330877   8.4583   NaN        Q  \n",
       "17      True  NaN      0      0      244373  13.0000   NaN        S  \n",
       "19     False  NaN      0      0        2649   7.2250   NaN        C  \n",
       "26      True  NaN      0      0        2631   7.2250   NaN        C  \n",
       "28     False  NaN      0      0      330959   7.8792   NaN        Q  \n",
       "..       ...  ...    ...    ...         ...      ...   ...      ...  \n",
       "859     True  NaN      0      0        2629   7.2292   NaN        C  \n",
       "863    False  NaN      8      2    CA. 2343  69.5500   NaN        S  \n",
       "868     True  NaN      0      0      345777   9.5000   NaN        S  \n",
       "878     True  NaN      0      0      349217   7.8958   NaN        S  \n",
       "888    False  NaN      1      2  W./C. 6607  23.4500   NaN        S  \n",
       "\n",
       "[177 rows x 12 columns]"
      ]
     },
     "execution_count": 10,
     "metadata": {},
     "output_type": "execute_result"
    }
   ],
   "source": [
    "missing_age = df_train['Age'].isnull()\n",
    "df_train[missing_age]"
   ]
  },
  {
   "cell_type": "code",
   "execution_count": 12,
   "metadata": {
    "Collapsed": "false"
   },
   "outputs": [
    {
     "data": {
      "text/html": [
       "<div>\n",
       "<style scoped>\n",
       "    .dataframe tbody tr th:only-of-type {\n",
       "        vertical-align: middle;\n",
       "    }\n",
       "\n",
       "    .dataframe tbody tr th {\n",
       "        vertical-align: top;\n",
       "    }\n",
       "\n",
       "    .dataframe thead th {\n",
       "        text-align: right;\n",
       "    }\n",
       "</style>\n",
       "<table border=\"1\" class=\"dataframe\">\n",
       "  <thead>\n",
       "    <tr style=\"text-align: right;\">\n",
       "      <th></th>\n",
       "      <th>PassengerId</th>\n",
       "      <th>Survived</th>\n",
       "      <th>Pclass</th>\n",
       "      <th>Name</th>\n",
       "      <th>is_male</th>\n",
       "      <th>Age</th>\n",
       "      <th>SibSp</th>\n",
       "      <th>Parch</th>\n",
       "      <th>Ticket</th>\n",
       "      <th>Fare</th>\n",
       "      <th>Cabin</th>\n",
       "      <th>Embarked</th>\n",
       "    </tr>\n",
       "  </thead>\n",
       "  <tbody>\n",
       "    <tr>\n",
       "      <th>0</th>\n",
       "      <td>1</td>\n",
       "      <td>0</td>\n",
       "      <td>3</td>\n",
       "      <td>Braund, Mr. Owen Harris</td>\n",
       "      <td>True</td>\n",
       "      <td>22.0</td>\n",
       "      <td>1</td>\n",
       "      <td>0</td>\n",
       "      <td>A/5 21171</td>\n",
       "      <td>7.2500</td>\n",
       "      <td>NaN</td>\n",
       "      <td>S</td>\n",
       "    </tr>\n",
       "    <tr>\n",
       "      <th>2</th>\n",
       "      <td>3</td>\n",
       "      <td>1</td>\n",
       "      <td>3</td>\n",
       "      <td>Heikkinen, Miss. Laina</td>\n",
       "      <td>False</td>\n",
       "      <td>26.0</td>\n",
       "      <td>0</td>\n",
       "      <td>0</td>\n",
       "      <td>STON/O2. 3101282</td>\n",
       "      <td>7.9250</td>\n",
       "      <td>NaN</td>\n",
       "      <td>S</td>\n",
       "    </tr>\n",
       "    <tr>\n",
       "      <th>4</th>\n",
       "      <td>5</td>\n",
       "      <td>0</td>\n",
       "      <td>3</td>\n",
       "      <td>Allen, Mr. William Henry</td>\n",
       "      <td>True</td>\n",
       "      <td>35.0</td>\n",
       "      <td>0</td>\n",
       "      <td>0</td>\n",
       "      <td>373450</td>\n",
       "      <td>8.0500</td>\n",
       "      <td>NaN</td>\n",
       "      <td>S</td>\n",
       "    </tr>\n",
       "    <tr>\n",
       "      <th>5</th>\n",
       "      <td>6</td>\n",
       "      <td>0</td>\n",
       "      <td>3</td>\n",
       "      <td>Moran, Mr. James</td>\n",
       "      <td>True</td>\n",
       "      <td>NaN</td>\n",
       "      <td>0</td>\n",
       "      <td>0</td>\n",
       "      <td>330877</td>\n",
       "      <td>8.4583</td>\n",
       "      <td>NaN</td>\n",
       "      <td>Q</td>\n",
       "    </tr>\n",
       "    <tr>\n",
       "      <th>7</th>\n",
       "      <td>8</td>\n",
       "      <td>0</td>\n",
       "      <td>3</td>\n",
       "      <td>Palsson, Master. Gosta Leonard</td>\n",
       "      <td>True</td>\n",
       "      <td>2.0</td>\n",
       "      <td>3</td>\n",
       "      <td>1</td>\n",
       "      <td>349909</td>\n",
       "      <td>21.0750</td>\n",
       "      <td>NaN</td>\n",
       "      <td>S</td>\n",
       "    </tr>\n",
       "    <tr>\n",
       "      <th>...</th>\n",
       "      <td>...</td>\n",
       "      <td>...</td>\n",
       "      <td>...</td>\n",
       "      <td>...</td>\n",
       "      <td>...</td>\n",
       "      <td>...</td>\n",
       "      <td>...</td>\n",
       "      <td>...</td>\n",
       "      <td>...</td>\n",
       "      <td>...</td>\n",
       "      <td>...</td>\n",
       "      <td>...</td>\n",
       "    </tr>\n",
       "    <tr>\n",
       "      <th>884</th>\n",
       "      <td>885</td>\n",
       "      <td>0</td>\n",
       "      <td>3</td>\n",
       "      <td>Sutehall, Mr. Henry Jr</td>\n",
       "      <td>True</td>\n",
       "      <td>25.0</td>\n",
       "      <td>0</td>\n",
       "      <td>0</td>\n",
       "      <td>SOTON/OQ 392076</td>\n",
       "      <td>7.0500</td>\n",
       "      <td>NaN</td>\n",
       "      <td>S</td>\n",
       "    </tr>\n",
       "    <tr>\n",
       "      <th>885</th>\n",
       "      <td>886</td>\n",
       "      <td>0</td>\n",
       "      <td>3</td>\n",
       "      <td>Rice, Mrs. William (Margaret Norton)</td>\n",
       "      <td>False</td>\n",
       "      <td>39.0</td>\n",
       "      <td>0</td>\n",
       "      <td>5</td>\n",
       "      <td>382652</td>\n",
       "      <td>29.1250</td>\n",
       "      <td>NaN</td>\n",
       "      <td>Q</td>\n",
       "    </tr>\n",
       "    <tr>\n",
       "      <th>886</th>\n",
       "      <td>887</td>\n",
       "      <td>0</td>\n",
       "      <td>2</td>\n",
       "      <td>Montvila, Rev. Juozas</td>\n",
       "      <td>True</td>\n",
       "      <td>27.0</td>\n",
       "      <td>0</td>\n",
       "      <td>0</td>\n",
       "      <td>211536</td>\n",
       "      <td>13.0000</td>\n",
       "      <td>NaN</td>\n",
       "      <td>S</td>\n",
       "    </tr>\n",
       "    <tr>\n",
       "      <th>888</th>\n",
       "      <td>889</td>\n",
       "      <td>0</td>\n",
       "      <td>3</td>\n",
       "      <td>Johnston, Miss. Catherine Helen \"Carrie\"</td>\n",
       "      <td>False</td>\n",
       "      <td>NaN</td>\n",
       "      <td>1</td>\n",
       "      <td>2</td>\n",
       "      <td>W./C. 6607</td>\n",
       "      <td>23.4500</td>\n",
       "      <td>NaN</td>\n",
       "      <td>S</td>\n",
       "    </tr>\n",
       "    <tr>\n",
       "      <th>890</th>\n",
       "      <td>891</td>\n",
       "      <td>0</td>\n",
       "      <td>3</td>\n",
       "      <td>Dooley, Mr. Patrick</td>\n",
       "      <td>True</td>\n",
       "      <td>32.0</td>\n",
       "      <td>0</td>\n",
       "      <td>0</td>\n",
       "      <td>370376</td>\n",
       "      <td>7.7500</td>\n",
       "      <td>NaN</td>\n",
       "      <td>Q</td>\n",
       "    </tr>\n",
       "  </tbody>\n",
       "</table>\n",
       "<p>687 rows × 12 columns</p>\n",
       "</div>"
      ],
      "text/plain": [
       "     PassengerId  Survived  Pclass                                      Name  \\\n",
       "0              1         0       3                   Braund, Mr. Owen Harris   \n",
       "2              3         1       3                    Heikkinen, Miss. Laina   \n",
       "4              5         0       3                  Allen, Mr. William Henry   \n",
       "5              6         0       3                          Moran, Mr. James   \n",
       "7              8         0       3            Palsson, Master. Gosta Leonard   \n",
       "..           ...       ...     ...                                       ...   \n",
       "884          885         0       3                    Sutehall, Mr. Henry Jr   \n",
       "885          886         0       3      Rice, Mrs. William (Margaret Norton)   \n",
       "886          887         0       2                     Montvila, Rev. Juozas   \n",
       "888          889         0       3  Johnston, Miss. Catherine Helen \"Carrie\"   \n",
       "890          891         0       3                       Dooley, Mr. Patrick   \n",
       "\n",
       "     is_male   Age  SibSp  Parch            Ticket     Fare Cabin Embarked  \n",
       "0       True  22.0      1      0         A/5 21171   7.2500   NaN        S  \n",
       "2      False  26.0      0      0  STON/O2. 3101282   7.9250   NaN        S  \n",
       "4       True  35.0      0      0            373450   8.0500   NaN        S  \n",
       "5       True   NaN      0      0            330877   8.4583   NaN        Q  \n",
       "7       True   2.0      3      1            349909  21.0750   NaN        S  \n",
       "..       ...   ...    ...    ...               ...      ...   ...      ...  \n",
       "884     True  25.0      0      0   SOTON/OQ 392076   7.0500   NaN        S  \n",
       "885    False  39.0      0      5            382652  29.1250   NaN        Q  \n",
       "886     True  27.0      0      0            211536  13.0000   NaN        S  \n",
       "888    False   NaN      1      2        W./C. 6607  23.4500   NaN        S  \n",
       "890     True  32.0      0      0            370376   7.7500   NaN        Q  \n",
       "\n",
       "[687 rows x 12 columns]"
      ]
     },
     "execution_count": 12,
     "metadata": {},
     "output_type": "execute_result"
    }
   ],
   "source": [
    "missing_cabin = df_train['Cabin'].isnull()\n",
    "df_train[missing_cabin]"
   ]
  },
  {
   "cell_type": "markdown",
   "metadata": {
    "Collapsed": "false"
   },
   "source": [
    "#### Why are these values missing?"
   ]
  },
  {
   "cell_type": "code",
   "execution_count": 18,
   "metadata": {
    "Collapsed": "false"
   },
   "outputs": [
    {
     "data": {
      "text/plain": [
       "S    90\n",
       "Q    49\n",
       "C    38\n",
       "Name: Embarked, dtype: int64"
      ]
     },
     "execution_count": 18,
     "metadata": {},
     "output_type": "execute_result"
    }
   ],
   "source": [
    "df_train['Embarked'][missing_age].value_counts()"
   ]
  },
  {
   "cell_type": "code",
   "execution_count": 19,
   "metadata": {
    "Collapsed": "false"
   },
   "outputs": [
    {
     "data": {
      "text/plain": [
       "S    554\n",
       "C    130\n",
       "Q     28\n",
       "Name: Embarked, dtype: int64"
      ]
     },
     "execution_count": 19,
     "metadata": {},
     "output_type": "execute_result"
    }
   ],
   "source": [
    "df_train['Embarked'][~missing_age].value_counts()"
   ]
  },
  {
   "cell_type": "code",
   "execution_count": 44,
   "metadata": {
    "Collapsed": "false"
   },
   "outputs": [
    {
     "data": {
      "text/plain": [
       "0.005886534840075563"
      ]
     },
     "execution_count": 44,
     "metadata": {},
     "output_type": "execute_result"
    }
   ],
   "source": [
    "ttest_ind(df_train['Survived'][missing_age], df_train['Survived'][~missing_age]).pvalue"
   ]
  },
  {
   "cell_type": "code",
   "execution_count": 15,
   "metadata": {
    "Collapsed": "false"
   },
   "outputs": [
    {
     "data": {
      "text/plain": [
       "S    515\n",
       "C     99\n",
       "Q     73\n",
       "Name: Embarked, dtype: int64"
      ]
     },
     "execution_count": 15,
     "metadata": {},
     "output_type": "execute_result"
    }
   ],
   "source": [
    "df_train['Embarked'][missing_cabin].value_counts()"
   ]
  },
  {
   "cell_type": "code",
   "execution_count": 17,
   "metadata": {
    "Collapsed": "false"
   },
   "outputs": [
    {
     "data": {
      "text/plain": [
       "S    129\n",
       "C     69\n",
       "Q      4\n",
       "Name: Embarked, dtype: int64"
      ]
     },
     "execution_count": 17,
     "metadata": {},
     "output_type": "execute_result"
    }
   ],
   "source": [
    "df_train['Embarked'][~missing_cabin].value_counts()"
   ]
  },
  {
   "cell_type": "code",
   "execution_count": 63,
   "metadata": {
    "Collapsed": "false"
   },
   "outputs": [],
   "source": [
    "df_train_dum = pd.get_dummies(df_train, columns=['Embarked'])"
   ]
  },
  {
   "cell_type": "code",
   "execution_count": 68,
   "metadata": {
    "Collapsed": "false"
   },
   "outputs": [],
   "source": [
    "def compare_missing_columns(df, col_name, missing_values):\n",
    "    a = df[col_name][missing_values]\n",
    "    b = df[col_name][~missing_values]\n",
    "    ttest = ttest_ind(a, b, nan_policy='omit') \n",
    "    pvalue = ttest.pvalue\n",
    "    \n",
    "    if pvalue < 0.05:    \n",
    "        print(col_name, pvalue)"
   ]
  },
  {
   "cell_type": "code",
   "execution_count": 69,
   "metadata": {
    "Collapsed": "false"
   },
   "outputs": [
    {
     "data": {
      "text/plain": [
       "Index(['PassengerId', 'Survived', 'Pclass', 'Name', 'is_male', 'Age', 'SibSp',\n",
       "       'Parch', 'Ticket', 'Fare', 'Cabin', 'Embarked_C', 'Embarked_Q',\n",
       "       'Embarked_S'],\n",
       "      dtype='object')"
      ]
     },
     "execution_count": 69,
     "metadata": {},
     "output_type": "execute_result"
    }
   ],
   "source": [
    "df_train_dum.columns"
   ]
  },
  {
   "cell_type": "code",
   "execution_count": 73,
   "metadata": {
    "Collapsed": "false",
    "collapsed": true,
    "jupyter": {
     "outputs_hidden": true
    }
   },
   "outputs": [
    {
     "name": "stdout",
     "output_type": "stream",
     "text": [
      "Age\n",
      "Survived 0.005886534840075563\n",
      "Cabin\n",
      "Survived 3.090891039654821e-22\n",
      "\n",
      "\n",
      "Age\n",
      "Pclass 2.0591820872982796e-07\n",
      "Cabin\n",
      "Pclass 1.9171279401186437e-146\n",
      "\n",
      "\n",
      "Age\n",
      "Cabin\n",
      "is_male 2.6041345254326915e-05\n",
      "\n",
      "\n",
      "Age\n",
      "Cabin\n",
      "Age 1.297783597887407e-11\n",
      "\n",
      "\n",
      "Age\n",
      "Cabin\n",
      "\n",
      "\n",
      "Age\n",
      "Parch 0.00020431778278522634\n",
      "Cabin\n",
      "\n",
      "\n",
      "Age\n",
      "Fare 0.002616756065905452\n",
      "Cabin\n",
      "Fare 4.852804964971382e-53\n",
      "\n",
      "\n",
      "Age\n",
      "Cabin\n",
      "Embarked_C 3.279647663532837e-10\n",
      "\n",
      "\n",
      "Age\n",
      "Embarked_Q 3.6557131913829676e-25\n",
      "Cabin\n",
      "Embarked_Q 0.00010505787037349263\n",
      "\n",
      "\n",
      "Age\n",
      "Embarked_S 5.609721001522385e-13\n",
      "Cabin\n",
      "Embarked_S 0.000996674238234134\n",
      "\n",
      "\n"
     ]
    }
   ],
   "source": [
    "for col_name in ['Survived', 'Pclass', 'is_male', 'Age', 'SibSp', 'Parch', 'Fare', 'Embarked_C', 'Embarked_Q', 'Embarked_S']:\n",
    "    print('Age')\n",
    "    compare_missing_columns(df_train_dum, col_name, missing_age)\n",
    "    print('Cabin')\n",
    "    compare_missing_columns(df_train_dum, col_name, missing_cabin)\n",
    "    print('\\n')"
   ]
  },
  {
   "cell_type": "code",
   "execution_count": 95,
   "metadata": {
    "Collapsed": "false"
   },
   "outputs": [
    {
     "data": {
      "text/plain": [
       "<matplotlib.legend.Legend at 0x130158df0>"
      ]
     },
     "execution_count": 95,
     "metadata": {},
     "output_type": "execute_result"
    },
    {
     "data": {
      "image/png": "[encoded data removed]",
      "text/plain": [
       "<Figure size 432x288 with 1 Axes>"
      ]
     },
     "metadata": {
      "needs_background": "light"
     },
     "output_type": "display_data"
    }
   ],
   "source": [
    "df_train_dum['Fare'][missing_age].plot.kde(label='Fare for missing age')\n",
    "df_train_dum['Fare'][~missing_age].plot.kde(label='Fare for present age')\n",
    "plt.xlim([0, df_train_dum['Fare'].max()])\n",
    "plt.legend();"
   ]
  },
  {
   "cell_type": "code",
   "execution_count": 96,
   "metadata": {
    "Collapsed": "false"
   },
   "outputs": [
    {
     "data": {
      "text/plain": [
       "<matplotlib.axes._subplots.AxesSubplot at 0x13026f9a0>"
      ]
     },
     "execution_count": 96,
     "metadata": {},
     "output_type": "execute_result"
    },
    {
     "data": {
      "image/png": "[encoded data removed]",
      "text/plain": [
       "<Figure size 432x288 with 1 Axes>"
      ]
     },
     "metadata": {
      "needs_background": "light"
     },
     "output_type": "display_data"
    }
   ],
   "source": [
    "df_train_dum.plot(x='Age', y='Fare', kind='scatter')"
   ]
  },
  {
   "cell_type": "code",
   "execution_count": 101,
   "metadata": {
    "Collapsed": "false"
   },
   "outputs": [
    {
     "data": {
      "text/plain": [
       "3    491\n",
       "1    216\n",
       "2    184\n",
       "Name: Pclass, dtype: int64"
      ]
     },
     "execution_count": 101,
     "metadata": {},
     "output_type": "execute_result"
    }
   ],
   "source": [
    "df_train_dum['Pclass'].value_counts()"
   ]
  },
  {
   "cell_type": "code",
   "execution_count": 102,
   "metadata": {
    "Collapsed": "false"
   },
   "outputs": [
    {
     "name": "stderr",
     "output_type": "stream",
     "text": [
      "<ipython-input-102-a08818781c34>:2: SettingWithCopyWarning: \n",
      "A value is trying to be set on a copy of a slice from a DataFrame\n",
      "\n",
      "See the caveats in the documentation: https://pandas.pydata.org/pandas-docs/stable/user_guide/indexing.html#returning-a-view-versus-a-copy\n",
      "  c_pclass[c_pclass == 1] = 'red'\n"
     ]
    }
   ],
   "source": [
    "c_pclass = df_train_dum['Pclass']\n",
    "c_pclass[c_pclass == 1] = 'red'\n",
    "c_pclass[c_pclass == 2] = 'blue'\n",
    "c_pclass[c_pclass == 3] = 'green'"
   ]
  },
  {
   "cell_type": "code",
   "execution_count": 106,
   "metadata": {
    "Collapsed": "false"
   },
   "outputs": [
    {
     "data": {
      "text/plain": [
       "<matplotlib.axes._subplots.AxesSubplot at 0x131360be0>"
      ]
     },
     "execution_count": 106,
     "metadata": {},
     "output_type": "execute_result"
    },
    {
     "data": {
      "image/png": "[encoded data removed]",
      "text/plain": [
       "<Figure size 432x288 with 1 Axes>"
      ]
     },
     "metadata": {
      "needs_background": "light"
     },
     "output_type": "display_data"
    }
   ],
   "source": [
    "df_train_dum.plot(x='Pclass', y='Age', kind='scatter')"
   ]
  },
  {
   "cell_type": "code",
   "execution_count": 88,
   "metadata": {
    "Collapsed": "false"
   },
   "outputs": [
    {
     "data": {
      "text/plain": [
       "<matplotlib.axes._subplots.AxesSubplot at 0x12fbf4be0>"
      ]
     },
     "execution_count": 88,
     "metadata": {},
     "output_type": "execute_result"
    },
    {
     "data": {
      "image/png": "[encoded data removed]",
      "text/plain": [
       "<Figure size 432x288 with 1 Axes>"
      ]
     },
     "metadata": {
      "needs_background": "light"
     },
     "output_type": "display_data"
    }
   ],
   "source": [
    "df_train_dum['Fare'][missing_age].plot.hist()\n",
    "df_train_dum['Fare'][~missing_age].plot.hist(alpha=0.2)"
   ]
  },
  {
   "cell_type": "markdown",
   "metadata": {
    "Collapsed": "false"
   },
   "source": [
    "## Visualize"
   ]
  },
  {
   "cell_type": "markdown",
   "metadata": {
    "Collapsed": "false"
   },
   "source": [
    "## Machine learning"
   ]
  },
  {
   "cell_type": "code",
   "execution_count": 50,
   "metadata": {
    "Collapsed": "false"
   },
   "outputs": [],
   "source": [
    "X = df_train.drop(['Survived', 'Name'], axis=1).values\n",
    "y = df_train['Survived'].values"
   ]
  },
  {
   "cell_type": "code",
   "execution_count": 51,
   "metadata": {
    "Collapsed": "false"
   },
   "outputs": [
    {
     "data": {
      "text/plain": [
       "array([[1, 3, True, ..., 7.25, nan, 'S'],\n",
       "       [2, 1, False, ..., 71.2833, 'C85', 'C'],\n",
       "       [3, 3, False, ..., 7.925, nan, 'S'],\n",
       "       ...,\n",
       "       [889, 3, False, ..., 23.45, nan, 'S'],\n",
       "       [890, 1, True, ..., 30.0, 'C148', 'C'],\n",
       "       [891, 3, True, ..., 7.75, nan, 'Q']], dtype=object)"
      ]
     },
     "execution_count": 51,
     "metadata": {},
     "output_type": "execute_result"
    }
   ],
   "source": [
    "X"
   ]
  },
  {
   "cell_type": "code",
   "execution_count": 48,
   "metadata": {
    "Collapsed": "false"
   },
   "outputs": [
    {
     "data": {
      "text/plain": [
       "array([0, 1, 1, 1, 0, 0, 0, 0, 1, 1, 1, 1, 0, 0, 0, 1, 0, 1, 0, 1, 0, 1,\n",
       "       1, 1, 0, 1, 0, 0, 1, 0, 0, 1, 1, 0, 0, 0, 1, 0, 0, 1, 0, 0, 0, 1,\n",
       "       1, 0, 0, 1, 0, 0, 0, 0, 1, 1, 0, 1, 1, 0, 1, 0, 0, 1, 0, 0, 0, 1,\n",
       "       1, 0, 1, 0, 0, 0, 0, 0, 1, 0, 0, 0, 1, 1, 0, 1, 1, 0, 1, 1, 0, 0,\n",
       "       1, 0, 0, 0, 0, 0, 0, 0, 0, 1, 1, 0, 0, 0, 0, 0, 0, 0, 1, 1, 0, 1,\n",
       "       0, 0, 0, 0, 0, 0, 0, 0, 0, 0, 0, 0, 0, 1, 0, 1, 0, 1, 1, 0, 0, 0,\n",
       "       0, 1, 0, 0, 1, 0, 0, 0, 0, 1, 1, 0, 0, 0, 1, 0, 0, 0, 0, 1, 0, 0,\n",
       "       0, 0, 1, 0, 0, 0, 0, 1, 0, 0, 0, 1, 1, 0, 0, 0, 0, 0, 1, 0, 0, 0,\n",
       "       0, 0, 0, 0, 0, 0, 0, 1, 1, 0, 1, 1, 0, 0, 1, 0, 1, 1, 1, 1, 0, 0,\n",
       "       1, 0, 0, 0, 0, 0, 1, 0, 0, 1, 1, 1, 0, 1, 0, 0, 0, 1, 1, 0, 1, 0,\n",
       "       1, 0, 0, 0, 1, 0, 1, 0, 0, 0, 1, 0, 0, 1, 0, 0, 0, 1, 0, 0, 0, 1,\n",
       "       0, 0, 0, 0, 0, 1, 1, 0, 0, 0, 0, 0, 0, 1, 1, 1, 1, 1, 0, 1, 0, 0,\n",
       "       0, 0, 0, 1, 1, 1, 0, 1, 1, 0, 1, 1, 0, 0, 0, 1, 0, 0, 0, 1, 0, 0,\n",
       "       1, 0, 1, 1, 1, 1, 0, 0, 0, 0, 0, 0, 1, 1, 1, 1, 0, 1, 0, 1, 1, 1,\n",
       "       0, 1, 1, 1, 0, 0, 0, 1, 1, 0, 1, 1, 0, 0, 1, 1, 0, 1, 0, 1, 1, 1,\n",
       "       1, 0, 0, 0, 1, 0, 0, 1, 1, 0, 1, 1, 0, 0, 0, 1, 1, 1, 1, 0, 0, 0,\n",
       "       0, 0, 0, 0, 1, 0, 1, 1, 0, 0, 0, 0, 0, 0, 1, 1, 1, 1, 1, 0, 0, 0,\n",
       "       0, 1, 1, 0, 0, 0, 1, 1, 0, 1, 0, 0, 0, 1, 0, 1, 1, 1, 0, 1, 1, 0,\n",
       "       0, 0, 0, 1, 1, 0, 0, 0, 0, 0, 0, 1, 0, 0, 0, 0, 1, 0, 1, 0, 1, 1,\n",
       "       0, 0, 0, 0, 0, 0, 0, 0, 1, 1, 0, 1, 1, 1, 1, 0, 0, 1, 0, 1, 0, 0,\n",
       "       1, 0, 0, 1, 1, 1, 1, 1, 1, 1, 0, 0, 0, 1, 0, 1, 0, 1, 1, 0, 1, 0,\n",
       "       0, 0, 0, 0, 0, 0, 0, 1, 0, 0, 1, 1, 0, 0, 0, 0, 0, 1, 0, 0, 0, 1,\n",
       "       1, 0, 1, 0, 0, 1, 0, 0, 0, 0, 0, 0, 1, 0, 0, 0, 0, 0, 0, 0, 1, 0,\n",
       "       1, 1, 0, 1, 1, 0, 1, 1, 0, 0, 1, 0, 1, 0, 1, 0, 0, 1, 0, 0, 1, 0,\n",
       "       0, 0, 1, 0, 0, 1, 0, 1, 0, 1, 0, 1, 1, 0, 0, 1, 0, 0, 1, 1, 0, 1,\n",
       "       1, 0, 0, 1, 1, 0, 1, 0, 1, 1, 0, 0, 0, 0, 0, 0, 0, 0, 0, 1, 1, 1,\n",
       "       1, 1, 0, 0, 1, 1, 0, 1, 1, 1, 0, 0, 0, 1, 0, 1, 0, 0, 0, 1, 0, 0,\n",
       "       0, 0, 1, 0, 0, 1, 1, 0, 0, 0, 1, 0, 0, 1, 1, 1, 0, 0, 1, 0, 0, 1,\n",
       "       0, 0, 1, 0, 0, 1, 1, 0, 0, 0, 0, 1, 0, 0, 1, 0, 1, 0, 0, 1, 0, 0,\n",
       "       0, 0, 0, 1, 0, 1, 1, 1, 0, 1, 0, 1, 0, 1, 0, 1, 0, 0, 0, 0, 0, 0,\n",
       "       1, 0, 0, 0, 1, 0, 0, 0, 0, 1, 1, 0, 0, 1, 0, 0, 0, 1, 0, 1, 0, 1,\n",
       "       0, 0, 0, 0, 0, 0, 0, 1, 1, 1, 1, 0, 0, 0, 0, 1, 0, 0, 1, 1, 0, 0,\n",
       "       0, 0, 1, 1, 1, 1, 1, 0, 1, 0, 0, 0, 1, 1, 0, 0, 1, 0, 0, 0, 1, 0,\n",
       "       1, 1, 0, 0, 1, 0, 0, 0, 0, 0, 0, 1, 0, 0, 1, 0, 1, 0, 1, 0, 0, 1,\n",
       "       0, 0, 1, 1, 0, 0, 1, 1, 0, 0, 0, 1, 0, 0, 1, 1, 0, 1, 0, 0, 0, 0,\n",
       "       0, 0, 0, 0, 1, 0, 0, 1, 0, 1, 1, 1, 0, 0, 0, 0, 1, 0, 1, 0, 0, 0,\n",
       "       0, 0, 0, 0, 1, 1, 0, 0, 0, 1, 1, 1, 1, 0, 0, 0, 0, 1, 0, 0, 0, 0,\n",
       "       0, 0, 0, 0, 0, 0, 1, 1, 0, 1, 0, 0, 0, 1, 1, 1, 1, 1, 0, 0, 0, 1,\n",
       "       0, 0, 1, 1, 0, 0, 1, 0, 0, 0, 0, 0, 0, 1, 0, 0, 0, 1, 0, 1, 1, 1,\n",
       "       1, 0, 0, 0, 1, 0, 0, 1, 1, 0, 0, 1, 0, 1, 0, 0, 1, 1, 0, 0, 0, 1,\n",
       "       1, 0, 0, 0, 0, 0, 0, 1, 0, 1, 0])"
      ]
     },
     "execution_count": 48,
     "metadata": {},
     "output_type": "execute_result"
    }
   ],
   "source": [
    "y"
   ]
  },
  {
   "cell_type": "code",
   "execution_count": null,
   "metadata": {
    "Collapsed": "false"
   },
   "outputs": [],
   "source": []
  }
 ],
 "metadata": {
  "kernelspec": {
   "display_name": "Python 3",
   "language": "python",
   "name": "python3"
  },
  "language_info": {
   "codemirror_mode": {
    "name": "ipython",
    "version": 3
   },
   "file_extension": ".py",
   "mimetype": "text/x-python",
   "name": "python",
   "nbconvert_exporter": "python",
   "pygments_lexer": "ipython3",
   "version": "3.8.1"
  }
 },
 "nbformat": 4,
 "nbformat_minor": 4
}
